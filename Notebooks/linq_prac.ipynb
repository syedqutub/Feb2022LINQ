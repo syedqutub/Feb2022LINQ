{
 "cells": [
  {
   "cell_type": "code",
   "execution_count": null,
   "metadata": {
    "dotnet_interactive": {
     "language": "csharp"
    }
   },
   "outputs": [],
   "source": [
    "using System.IO;\n",
    "using System.Text.Json;"
   ]
  },
  {
   "cell_type": "code",
   "execution_count": null,
   "metadata": {
    "dotnet_interactive": {
     "language": "csharp"
    }
   },
   "outputs": [],
   "source": [
    "public record State(int Id,string Name,string Code);\n",
    "public record City(int Id,int StateId,string Name);\n",
    "public record Person(int Id,string Name);\n",
    "public record Car(int Id,int PersonId,string Name);\n",
    "public record Address(int Id,int PersonId,int CityId,int StateId,string Street);"
   ]
  },
  {
   "cell_type": "code",
   "execution_count": null,
   "metadata": {
    "dotnet_interactive": {
     "language": "csharp"
    }
   },
   "outputs": [],
   "source": [
    "var cities = JsonSerializer.Deserialize<List<City>>(File.ReadAllText(\"cities.json\"));\n",
    "var states = JsonSerializer.Deserialize<List<State>>(File.ReadAllText(\"states.json\"));\n",
    "var people = JsonSerializer.Deserialize<List<Person>>(File.ReadAllText(\"people.json\"));\n",
    "var cars = JsonSerializer.Deserialize<List<Car>>(File.ReadAllText(\"cars.json\"));\n",
    "var addresses = JsonSerializer.Deserialize<List<Car>>(File.ReadAllText(\"addresses.json\"));"
   ]
  },
  {
   "cell_type": "code",
   "execution_count": null,
   "metadata": {
    "dotnet_interactive": {
     "language": "csharp"
    }
   },
   "outputs": [
    {
     "data": {
      "text/html": [
       "<table><thead><tr><th><i>index</i></th><th>Id</th><th>PersonId</th><th>Name</th></tr></thead><tbody><tr><td>0</td><td><div class=\"dni-plaintext\">1</div></td><td><div class=\"dni-plaintext\">1</div></td><td><div class=\"dni-plaintext\">&lt;null&gt;</div></td></tr><tr><td>1</td><td><div class=\"dni-plaintext\">2</div></td><td><div class=\"dni-plaintext\">1</div></td><td><div class=\"dni-plaintext\">&lt;null&gt;</div></td></tr><tr><td>2</td><td><div class=\"dni-plaintext\">3</div></td><td><div class=\"dni-plaintext\">2</div></td><td><div class=\"dni-plaintext\">&lt;null&gt;</div></td></tr><tr><td>3</td><td><div class=\"dni-plaintext\">4</div></td><td><div class=\"dni-plaintext\">3</div></td><td><div class=\"dni-plaintext\">&lt;null&gt;</div></td></tr><tr><td>4</td><td><div class=\"dni-plaintext\">5</div></td><td><div class=\"dni-plaintext\">4</div></td><td><div class=\"dni-plaintext\">&lt;null&gt;</div></td></tr><tr><td>5</td><td><div class=\"dni-plaintext\">6</div></td><td><div class=\"dni-plaintext\">5</div></td><td><div class=\"dni-plaintext\">&lt;null&gt;</div></td></tr><tr><td>6</td><td><div class=\"dni-plaintext\">7</div></td><td><div class=\"dni-plaintext\">6</div></td><td><div class=\"dni-plaintext\">&lt;null&gt;</div></td></tr><tr><td>7</td><td><div class=\"dni-plaintext\">8</div></td><td><div class=\"dni-plaintext\">7</div></td><td><div class=\"dni-plaintext\">&lt;null&gt;</div></td></tr><tr><td>8</td><td><div class=\"dni-plaintext\">9</div></td><td><div class=\"dni-plaintext\">8</div></td><td><div class=\"dni-plaintext\">&lt;null&gt;</div></td></tr><tr><td>9</td><td><div class=\"dni-plaintext\">10</div></td><td><div class=\"dni-plaintext\">9</div></td><td><div class=\"dni-plaintext\">&lt;null&gt;</div></td></tr><tr><td>10</td><td><div class=\"dni-plaintext\">11</div></td><td><div class=\"dni-plaintext\">10</div></td><td><div class=\"dni-plaintext\">&lt;null&gt;</div></td></tr></tbody></table>"
      ]
     },
     "metadata": {},
     "output_type": "display_data"
    }
   ],
   "source": [
    "addresses"
   ]
  }
 ],
 "metadata": {
  "kernelspec": {
   "display_name": ".NET (C#)",
   "language": "C#",
   "name": ".net-csharp"
  },
  "language_info": {
   "file_extension": ".cs",
   "mimetype": "text/x-csharp",
   "name": "C#",
   "pygments_lexer": "csharp",
   "version": "9.0"
  },
  "orig_nbformat": 4
 },
 "nbformat": 4,
 "nbformat_minor": 2
}
